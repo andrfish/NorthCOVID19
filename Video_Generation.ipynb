{
 "cells": [
  {
   "cell_type": "markdown",
   "metadata": {
    "colab_type": "text",
    "id": "Fb9lHor9_bdl"
   },
   "source": [
    "# Video Generation Script"
   ]
  },
  {
   "cell_type": "markdown",
   "metadata": {
    "colab_type": "text",
    "id": "BVbpAyOa_bdo"
   },
   "source": [
    "This script takes input from [NorthCOVID-19](https://covid.datalab.science/) (see model [here](https://covid.datalab.science/model)) and produces a video animation (see sample_video.mp4) of the results. The file \"sample_output.csv\" is an example of what the output will look like, \"sample_parameters.json\" is an example saved file of the parameters used, and \"sample_results.json\" is an example of the results output to the website from the simulation."
   ]
  },
  {
   "cell_type": "code",
   "execution_count": null,
   "metadata": {
    "colab": {
     "base_uri": "https://localhost:8080/",
     "height": 384
    },
    "colab_type": "code",
    "executionInfo": {
     "elapsed": 33732,
     "status": "ok",
     "timestamp": 1593022259847,
     "user": {
      "displayName": "Andrew Fisher",
      "photoUrl": "https://lh3.googleusercontent.com/a-/AOh14Gg-eD9hvLlTHfXNn56uwOyTx_KTkqMyd90o5J9B=s64",
      "userId": "00781508667205054958"
     },
     "user_tz": 240
    },
    "id": "1FR9G_qi_bdp",
    "outputId": "718141a0-0a63-4ead-c2c4-8af336829818"
   },
   "outputs": [],
   "source": [
    "# First, take care of the dependencies\n",
    "!pip install moviepy\n",
    "!pip install opencv-python\n",
    "!pip install gdown\n",
    "!pip install n2w\n",
    "\n",
    "import gdown\n",
    "import sys\n",
    "import warnings\n",
    "import os\n",
    "from os.path import exists, join, expanduser\n",
    "\n",
    "####################################################\n",
    "# IF YOU ARE RUNNING THIS LOCALLY:\n",
    "# Ensure 'PyTorch' version '>=1.5.1' is installed on your system\n",
    "# If using Anaconda, do \"conda install -c pytorch pytorch\"\n",
    "#\n",
    "# If on Windows, install ''ffmpeg' and have it on your PATH\n",
    "# https://ffmpeg.zeranoe.com/builds/\n",
    "#\n",
    "# If on Windows, install 'ImageMagick' and have it on your PATH\n",
    "# https://imagemagick.org/script/download.php\n",
    "####################################################\n",
    "\n",
    "# Note: The lines below this will install ImageMagick on Linux (as well as Colab)\n",
    "#       so ignore any errors if you're not on Linux.\n",
    "!apt update &> /dev/null\n",
    "!apt install imagemagick &> /dev/null\n",
    "!apt install ffmpeg &> /dev/null\n",
    "!pip3 install moviepy[optional] &> /dev/null\n",
    "!pip3 install scipy==1.1.0 &> /dev/null\n",
    "!sed -i '/<policy domain=\"path\" rights=\"none\" pattern=\"@\\*\"/d' /etc/ImageMagick-6/policy.xml\n",
    "\n",
    "#########################################################\n",
    "# Taken from sample notebooks provided by these authors\n",
    "# https://github.com/tugstugi/pytorch-dc-tts\n",
    "project_name = \"pytorch-dc-tts\"\n",
    "if not exists(project_name):\n",
    "    !git clone --quiet https://github.com/tugstugi/{project_name}\n",
    "    !cd {project_name} && pip install -q -r requirements.txt\n",
    "\n",
    "if not exists(\"ljspeech-text2mel.pth\"):\n",
    "    !gdown --id 1rXMp5wFAs51o-6GD5vomucnV2sjwHHDd --output ljspeech-text2mel.pth\n",
    "\n",
    "if not exists(\"ljspeech-ssrn.pth\"):\n",
    "    !gdown --id 1gMwPSGM-Ci4MbtoOzaSRsdu-oSsBKH2i --output ljspeech-ssrn.pth\n",
    "\n",
    "sys.path.append(project_name)\n",
    "warnings.filterwarnings(\"ignore\")\n",
    "#########################################################"
   ]
  },
  {
   "cell_type": "code",
   "execution_count": null,
   "metadata": {
    "colab": {},
    "colab_type": "code",
    "executionInfo": {
     "elapsed": 33729,
     "status": "ok",
     "timestamp": 1593022259850,
     "user": {
      "displayName": "Andrew Fisher",
      "photoUrl": "https://lh3.googleusercontent.com/a-/AOh14Gg-eD9hvLlTHfXNn56uwOyTx_KTkqMyd90o5J9B=s64",
      "userId": "00781508667205054958"
     },
     "user_tz": 240
    },
    "id": "IxzNUhmz9wpg"
   },
   "outputs": [],
   "source": [
    "# Next, take care of the imports\n",
    "import numpy as np\n",
    "import pandas as pd\n",
    "import n2w\n",
    "\n",
    "import matplotlib\n",
    "import matplotlib.pyplot as plt\n",
    "\n",
    "import matplotlib.animation as animation\n",
    "import moviepy.editor as mp\n",
    "import cv2\n",
    "\n",
    "from pathlib import Path\n",
    "import glob\n",
    "import math\n",
    "\n",
    "import torch\n",
    "from tqdm import *\n",
    "from hparams import HParams as hp\n",
    "from audio import save_to_wav\n",
    "from models import Text2Mel, SSRN\n",
    "from datasets.lj_speech import vocab, idx2char, get_test_data"
   ]
  },
  {
   "cell_type": "code",
   "execution_count": null,
   "metadata": {
    "colab": {
     "base_uri": "https://localhost:8080/",
     "height": 348
    },
    "colab_type": "code",
    "executionInfo": {
     "elapsed": 33728,
     "status": "ok",
     "timestamp": 1593022259852,
     "user": {
      "displayName": "Andrew Fisher",
      "photoUrl": "https://lh3.googleusercontent.com/a-/AOh14Gg-eD9hvLlTHfXNn56uwOyTx_KTkqMyd90o5J9B=s64",
      "userId": "00781508667205054958"
     },
     "user_tz": 240
    },
    "id": "wJLyMaVO_bdt",
    "outputId": "96587aab-1043-426c-caae-a948afa1c717"
   },
   "outputs": [],
   "source": [
    "# Read the output data\n",
    "try:\n",
    "    input_data = pd.read_csv('sample_output.csv')\n",
    "except:\n",
    "    # We're on colab\n",
    "    !gdown --id 1m5Q7jTq4tVl4qW1MxRF0wO9lI-gl5p5w --output sample_output.csv\n",
    "    !gdown --id 15N-sT4h687aOCsqDyvAwPJRzMttjxk7s --output sample_parameters.json\n",
    "    !gdown --id 1_bKvB89svR5R2Fme-K_cSxoXWfPRkyRG --output sample_results.json\n",
    "    !gdown --id 12V5q8T7vEzkLxxBojDIn3uxjrVqPw36B --output plain.jpg\n",
    "\n",
    "    input_data = pd.read_csv('sample_output.csv')\n",
    "\n",
    "\n",
    "# Read the parameters data\n",
    "parameter_data = pd.read_json('sample_parameters.json', typ='series')\n",
    "\n",
    "# Read the results data\n",
    "results_data = pd.read_json('sample_results.json', typ='series')\n",
    "\n",
    "\n",
    "# Create/clear the working directory\n",
    "Path(\"output/working/\").mkdir(parents=True, exist_ok=True)\n",
    "\n",
    "files = glob.glob('output/*')\n",
    "for f in files:\n",
    "    try:\n",
    "        os.remove(f)\n",
    "    except:\n",
    "        continue\n",
    "\n",
    "files = glob.glob('output/working/*')\n",
    "for f in files:\n",
    "    try:\n",
    "        os.remove(f)\n",
    "    except:\n",
    "        continue\n",
    "        \n",
    "# Output the important information we've read\n",
    "max_day = int(math.ceil(results_data['infectionEndDays'] / 10.0) * 10)\n",
    "print(\"-----INFECTION RELATED PARAMETERS-----\")\n",
    "print(\"The infectivity of the infection was: \" + str(parameter_data['T']))\n",
    "print(\"The contact rate of the infection was set to: \" + str(parameter_data['C']))\n",
    "print(\"The number of days it takes to recover from the infection: \" + str(parameter_data['NU']))\n",
    "\n",
    "print(\"\\n-----POPULATION RELATED PARAMETERS-----\")\n",
    "print(\"The total number of individuals was: \" +  str(parameter_data['N']))\n",
    "print(\"The number of initially infected individuals was: \" + str(parameter_data['NI']))\n",
    "\n",
    "print(\"\\n-----HOSPITAL RELATED PARAMETERS-----\")\n",
    "print(\"The maximum capacity of the ICU was set to: \" + str(parameter_data['NC']))\n",
    "\n",
    "print(\"\\n-----FINAL DAY OUTPUTS-----\")\n",
    "print(\"The number of days it took the ICU to first reach peak capacity was: \" + str(results_data['icuFullDays']))\n",
    "print(\"The number of days it took for the infection to end was: \" + str(results_data['infectionEndDays']))\n",
    "\n",
    "print(\"\\n-----FINAL COUNT OUTPUTS-----\")\n",
    "print(\"The total number of individuals that became infected was: \" + str(results_data['totalInfected']))\n",
    "print(\"The total number of individuals that died was: \" + str(results_data['totalDead']))"
   ]
  },
  {
   "cell_type": "code",
   "execution_count": null,
   "metadata": {
    "colab": {},
    "colab_type": "code",
    "executionInfo": {
     "elapsed": 34937,
     "status": "ok",
     "timestamp": 1593022261064,
     "user": {
      "displayName": "Andrew Fisher",
      "photoUrl": "https://lh3.googleusercontent.com/a-/AOh14Gg-eD9hvLlTHfXNn56uwOyTx_KTkqMyd90o5J9B=s64",
      "userId": "00781508667205054958"
     },
     "user_tz": 240
    },
    "id": "tWURXO3z_bdx"
   },
   "outputs": [],
   "source": [
    "# Create the introductory slide using matplotlib [Preetkumar and Neel]\n",
    "videoSize = (1280, 720)\n",
    "mainImage = cv2.imread('plain.jpg')\n",
    "mainImage = cv2.resize(mainImage, videoSize)\n",
    "centerImage = mainImage.copy()\n",
    "\n",
    "# First Slide\n",
    "font = cv2.FONT_HERSHEY_DUPLEX\n",
    "fontScale = 2\n",
    "text = \"Visualization of NorthCOVID-19\"\n",
    "textsize = cv2.getTextSize(text, font, fontScale, 2)[0]\n",
    "textX = int((centerImage.shape[1] - textsize[0]) / 2)\n",
    "textY = int((centerImage.shape[0] + textsize[1]) / 2)\n",
    "cv2.putText(centerImage, text, (textX, textY), font, fontScale, (0, 0, 0), 2)\n",
    "\n",
    "# Second Slide\n",
    "i=0\n",
    "TitleText = [\"The results in this video are based\",\"on the following parameters:\"]\n",
    "for eachText in TitleText:\n",
    "    fontType = cv2.FONT_HERSHEY_DUPLEX\n",
    "    fontScale = 1.8\n",
    "    eachSize = cv2.getTextSize(eachText, fontType, fontScale,2)[0]\n",
    "    X = int((mainImage.shape[1] - eachSize[0])/2)\n",
    "    cv2.putText(mainImage,eachText,(X,130+i),fontType, fontScale, (0,0,0),2,cv2.LINE_AA)\n",
    "    i += 60\n",
    "\n",
    "textArray = [\"Initial population: \" + format(int(parameter_data['N']), \",\"),\n",
    "             \"Initial infected: \" + format(int(parameter_data['NI']), \",\"),\n",
    "             \"ICU capacity: \" + format(int(parameter_data['NC']), \",\"),\n",
    "             \"Contact rate: \" + str(round(parameter_data['C'], 1)),\n",
    "             \"Infectivity: \" + str(round(100 * parameter_data['T'], 1)) + \"%\",\n",
    "             \"Illness duration: \" + str(round(parameter_data['NU'], 1)) + \" days\"]\n",
    "i=0\n",
    "for eachText in textArray:\n",
    "    fontType = cv2.FONT_HERSHEY_DUPLEX\n",
    "    fontScale = 1.6\n",
    "    eachSize = cv2.getTextSize(eachText, fontType, fontScale,2)[0]\n",
    "    X = int((mainImage.shape[1] - eachSize[0])/2)\n",
    "    cv2.putText(mainImage,eachText,(X,290+i),fontType, fontScale, (60,60,60),2,cv2.LINE_AA)\n",
    "    i += 80\n",
    "\n",
    "#Creating video writer.\n",
    "out = cv2.VideoWriter('output/working/Introduction.mp4',cv2.VideoWriter_fourcc(*'MP4V'), 20, videoSize)\n",
    "\n",
    "# For 1 second, take 20.\n",
    "for i in range(60):\n",
    "    out.write(centerImage)\n",
    "for i in range(180):\n",
    "    out.write(mainImage)\n",
    "out.release()"
   ]
  },
  {
   "cell_type": "code",
   "execution_count": null,
   "metadata": {
    "colab": {
     "base_uri": "https://localhost:8080/",
     "height": 640
    },
    "colab_type": "code",
    "executionInfo": {
     "elapsed": 84288,
     "status": "ok",
     "timestamp": 1593022310417,
     "user": {
      "displayName": "Andrew Fisher",
      "photoUrl": "https://lh3.googleusercontent.com/a-/AOh14Gg-eD9hvLlTHfXNn56uwOyTx_KTkqMyd90o5J9B=s64",
      "userId": "00781508667205054958"
     },
     "user_tz": 240
    },
    "id": "S0Z5UzEB_bd0",
    "outputId": "cfc2d2b3-3d8c-4f50-ceed-2a8745a32fdd"
   },
   "outputs": [],
   "source": [
    "# Create the initial numbers slide ('Infectious' column) [Preetkumar and Neel]\n",
    "x = np.arange(0, results_data['infectionEndDays'] + 0.1, 0.1)\n",
    "y = np.array(input_data[['Infectious']]).flatten()[:x.shape[0]]\n",
    "\n",
    "fig, ax = plt.subplots(figsize=(1280/96, 720/96), dpi=96)\n",
    "\n",
    "plt.xlabel('Day', color = '#072b57')\n",
    "plt.ylabel('Individuals', color = '#072b57')\n",
    "plt.title('Infectious Individuals', color = '#072b57')\n",
    "\n",
    "line, = ax.plot(x,y,label='Infectious', color = '#FFA500')\n",
    "plt.legend(loc='upper left')\n",
    "ax.margins(0.05)\n",
    "def init():  # only required for blitting to give a clean slate.\n",
    "    line.set_data([], [])\n",
    "    return line,\n",
    "\n",
    "def animate(i):\n",
    "    xdata = x[0:int(i*2) + 30]\n",
    "    ydata = y[0:int(i*2) + 30]\n",
    "    line.set_data(xdata, ydata)\n",
    "    return line,\n",
    "\n",
    "ani = animation.FuncAnimation(fig, animate, init_func=init,frames=(max_day * 5) + 90,interval=200)\n",
    "writer = animation.FFMpegWriter(fps=30, metadata=dict(artist='Me'), bitrate=1800)\n",
    "ani.save(\"output/working/Initial_Slide.mp4\", writer=writer)"
   ]
  },
  {
   "cell_type": "code",
   "execution_count": null,
   "metadata": {
    "colab": {
     "base_uri": "https://localhost:8080/",
     "height": 640
    },
    "colab_type": "code",
    "executionInfo": {
     "elapsed": 139915,
     "status": "ok",
     "timestamp": 1593022366046,
     "user": {
      "displayName": "Andrew Fisher",
      "photoUrl": "https://lh3.googleusercontent.com/a-/AOh14Gg-eD9hvLlTHfXNn56uwOyTx_KTkqMyd90o5J9B=s64",
      "userId": "00781508667205054958"
     },
     "user_tz": 240
    },
    "id": "IhA24ErJ_bd7",
    "outputId": "4bf6567d-fdb0-4877-cd66-8df060ba1086"
   },
   "outputs": [],
   "source": [
    "# Create the hospital slide ('Hospitalized', 'ICU', and 'Ward' columns) [Vinit and Parth]\n",
    "x = np.arange(0, results_data['infectionEndDays'] + 0.1, 0.1)\n",
    "y2 = np.array(input_data[['ICU']]).flatten()[:x.shape[0]]\n",
    "y3 = np.array(input_data[['Ward']]).flatten()[:x.shape[0]]\n",
    "\n",
    "fig, ax = plt.subplots(figsize=(1280/96, 720/96), dpi=96)\n",
    "\n",
    "plt.xlabel('Day', color = '#072b57')\n",
    "plt.ylabel('Individuals', color = '#072b57')\n",
    "plt.title('Individuals in the Hospital', color = '#072b57')\n",
    "\n",
    "line1, = ax.plot(x,y2,label='ICU', color = '#FF0000')\n",
    "line2, = ax.plot(x,y3,label='Ward', color = '#800080')\n",
    "plt.legend(loc='upper left')\n",
    "ax.margins(0.05)\n",
    "def init():  # only required for blitting to give a clean slate.\n",
    "    line.set_data([], [])\n",
    "    return line,\n",
    "\n",
    "def animate(i):\n",
    "    xdata = x[0:int(i*2) + 30]\n",
    "    y2data = y2[0:int(i*2) + 30]\n",
    "    y3data = y3[0:int(i*2) + 30]\n",
    "    line1.set_data(xdata, y2data)\n",
    "    line2.set_data(xdata, y3data)\n",
    "    return line,\n",
    "\n",
    "ani = animation.FuncAnimation(fig, animate, init_func=init,frames=(max_day * 5) + 90,interval=200)\n",
    "writer = animation.FFMpegWriter(fps=30, metadata=dict(artist='Me'), bitrate=1800)\n",
    "ani.save(\"output/working/Hospital_Slide.mp4\", writer=writer)"
   ]
  },
  {
   "cell_type": "code",
   "execution_count": null,
   "metadata": {
    "colab": {
     "base_uri": "https://localhost:8080/",
     "height": 640
    },
    "colab_type": "code",
    "executionInfo": {
     "elapsed": 191915,
     "status": "ok",
     "timestamp": 1593022418048,
     "user": {
      "displayName": "Andrew Fisher",
      "photoUrl": "https://lh3.googleusercontent.com/a-/AOh14Gg-eD9hvLlTHfXNn56uwOyTx_KTkqMyd90o5J9B=s64",
      "userId": "00781508667205054958"
     },
     "user_tz": 240
    },
    "id": "8oLayTOK_bd_",
    "outputId": "e1215aec-371c-4b2c-df12-ea5c715dce50"
   },
   "outputs": [],
   "source": [
    "# Create the deaths slide ('Recovered' and 'Death' columns) [Vaibhav and Pruthvi]\n",
    "x = np.arange(0, results_data['infectionEndDays'] + 0.1, 0.1)\n",
    "y2 = np.array(input_data[['Recovered']]).flatten()[:x.shape[0]]\n",
    "y3 = np.array(input_data[['Death']]).flatten()[:x.shape[0]]\n",
    "\n",
    "fig, ax = plt.subplots(figsize=(1280/96, 720/96), dpi=96)\n",
    "\n",
    "plt.xlabel('Day', color = '#072b57')\n",
    "plt.ylabel('Individuals', color = '#072b57')\n",
    "plt.title('Recovered and Death Counts', color = '#072b57')\n",
    "\n",
    "line1, = ax.plot(x,y2,label='Recovered', color = '#008000')\n",
    "line2, = ax.plot(x,y3,label='Deaths', color = '#000000')\n",
    "plt.legend(loc='upper left')\n",
    "ax.margins(0.05)\n",
    "def init():  # only required for blitting to give a clean slate.\n",
    "    line.set_data([], [])\n",
    "    return line,\n",
    "\n",
    "def animate(i):\n",
    "    xdata = x[0:int(i*2) + 30]\n",
    "    y2data = y2[0:int(i*2) + 30]\n",
    "    y3data = y3[0:int(i*2) + 30]\n",
    "    line1.set_data(xdata, y2data)\n",
    "    line2.set_data(xdata, y3data)\n",
    "    return line,\n",
    "\n",
    "ani = animation.FuncAnimation(fig, animate, init_func=init,frames=(max_day * 5) + 90,interval=200)\n",
    "writer = animation.FFMpegWriter(fps=30, metadata=dict(artist='Me'), bitrate=1800)\n",
    "ani.save(\"output/working/Deaths_Slide.mp4\", writer=writer)"
   ]
  },
  {
   "cell_type": "code",
   "execution_count": null,
   "metadata": {
    "colab": {
     "base_uri": "https://localhost:8080/",
     "height": 640
    },
    "colab_type": "code",
    "executionInfo": {
     "elapsed": 41858,
     "status": "ok",
     "timestamp": 1593023357066,
     "user": {
      "displayName": "Andrew Fisher",
      "photoUrl": "https://lh3.googleusercontent.com/a-/AOh14Gg-eD9hvLlTHfXNn56uwOyTx_KTkqMyd90o5J9B=s64",
      "userId": "00781508667205054958"
     },
     "user_tz": 240
    },
    "id": "6P6R-z7B_beC",
    "outputId": "412ca0c1-4674-4e48-e3a3-3f8e2f27bbc7"
   },
   "outputs": [],
   "source": [
    "# Create the conclusion slide ('Hospitalized', 'ICU', 'Ward', 'Recovered', 'Death')\n",
    "fig = plt.figure(figsize=(1280/96, 720/96), dpi=96)\n",
    "\n",
    "position = np.arange(6) + .5 \n",
    "\n",
    "plt.tick_params(axis = 'x', colors = '#072b57')\n",
    "plt.tick_params(axis = 'y', colors = '#072b57')\n",
    "\n",
    "max_heights = [results_data['totalInfected'],\n",
    "               math.ceil(input_data['ICU'].max() + 1), \n",
    "               input_data['Ward'].max(),\n",
    "               input_data['Recovered'].max(), \n",
    "               input_data['Death'].max()]\n",
    "max_peak = max(max_heights)\n",
    "\n",
    "speeds = [results_data['totalInfected'] / 120, \n",
    "          math.ceil(input_data['ICU'].max() + 1) / 120,\n",
    "          input_data['Ward'].max() / 120,\n",
    "          input_data['Recovered'].max() / 120,\n",
    "          input_data['Death'].max() / 120]\n",
    "heights = [0, 0, 0, 0, 0, 0]\n",
    "\n",
    "rects = plt.bar(position, heights, align = 'center', width = 0.5, color=['#FFA500', '#FF0000', '#800080', '#008000', '#000000']) \n",
    "plt.xticks(position, ('Infected', 'ICU Peak', 'Ward Peak', 'Recovered', 'Deaths'))\n",
    "\n",
    "plt.xlabel('Total Counts', color = '#072b57')\n",
    "plt.ylabel('Individuals', color = '#072b57')\n",
    "plt.title('Summarized Results After the Infection Ended in ' + format(int(results_data['infectionEndDays']), \",\") + \" Days\", color = '#072b57')\n",
    "\n",
    "rounded_peak = int(math.ceil(max(max_heights) / 1000.0)) * 1000\n",
    "plt.ylim((0, rounded_peak))\n",
    "plt.xlim((0,5))\n",
    "\n",
    "rs = [r for r in rects]\n",
    "\n",
    "def init():\n",
    "    return rs\n",
    "\n",
    "def animate(i):\n",
    "    global rs, heights\n",
    "\n",
    "    if all(map(lambda x: x==1, heights)):\n",
    "        heights = [0, 0, 0, 0, 0, 0]\n",
    "    else:\n",
    "        heights = [min(h+s,mh) for h,s,mh in zip(heights,speeds,max_heights)]\n",
    "\n",
    "    for h,r in zip(heights,rs):\n",
    "        r.set_height(h)\n",
    "    return rs\n",
    "\n",
    "ani = animation.FuncAnimation(fig, animate, frames=(max_day * 2) + 450,interval=200, blit=True)\n",
    "writer = animation.FFMpegWriter(fps=30, metadata=dict(artist='Me'), bitrate=1800)\n",
    "ani.save(\"output/working/Conclusion_Slide.mp4\", writer=writer)"
   ]
  },
  {
   "cell_type": "code",
   "execution_count": null,
   "metadata": {
    "colab": {},
    "colab_type": "code",
    "executionInfo": {
     "elapsed": 232873,
     "status": "ok",
     "timestamp": 1593022459009,
     "user": {
      "displayName": "Andrew Fisher",
      "photoUrl": "https://lh3.googleusercontent.com/a-/AOh14Gg-eD9hvLlTHfXNn56uwOyTx_KTkqMyd90o5J9B=s64",
      "userId": "00781508667205054958"
     },
     "user_tz": 240
    },
    "id": "srX7bsf6_v7f"
   },
   "outputs": [],
   "source": [
    "# Define a method to create audio files from text\n",
    "# Adapted from sample notebooks provided by these authors\n",
    "# https://github.com/tugstugi/pytorch-dc-tts\n",
    "def text_to_wav(model, ssrn, sentence_set, filename):\n",
    "    count = 0\n",
    "    file_set = []\n",
    "    for sentence in sentence_set:\n",
    "        sentence += \".\"\n",
    "        normalized_sentence = \"\".join([c if c.lower() in vocab else '' for c in sentence])\n",
    "        sentences = [normalized_sentence]\n",
    "        max_N = len(normalized_sentence)\n",
    "        L = torch.from_numpy(get_test_data(sentences, max_N))\n",
    "        zeros = torch.from_numpy(np.zeros((1, hp.n_mels, 1), np.float32))\n",
    "        Y = zeros\n",
    "        A = None\n",
    "\n",
    "        for t in range(hp.max_T):\n",
    "            try:\n",
    "                _, Y_t, A = model(L, Y, monotonic_attention=False)\n",
    "            except:\n",
    "                _, Y_t, A = model(L.long(), Y, monotonic_attention=False)\n",
    "                \n",
    "            Y = torch.cat((zeros, Y_t), -1)\n",
    "            _, attention = torch.max(A[0, :, -1], 0)\n",
    "            attention = attention.item()\n",
    "            if L[0, attention] == vocab.index('E'):  # EOS\n",
    "                break\n",
    "\n",
    "        _, Z = ssrn(Y)\n",
    "      \n",
    "        Z = Z.cpu().detach().numpy()\n",
    "\n",
    "        tmp_name = \"output/working/\" + filename + \"_\" + str(count) + \".wav\"\n",
    "        save_to_wav(Z[0, :, :].T, tmp_name)\n",
    "\n",
    "        tmp_audio = mp.AudioFileClip(tmp_name)\n",
    "        file_set.append(tmp_audio)\n",
    "        count += 1\n",
    "    \n",
    "    # Concat all of the audio files into one audio\n",
    "    final_clip = mp.concatenate_audioclips(file_set)\n",
    "    final_clip.write_audiofile('output/working/' + filename + \".mp3\")"
   ]
  },
  {
   "cell_type": "code",
   "execution_count": null,
   "metadata": {
    "colab": {},
    "colab_type": "code",
    "executionInfo": {
     "elapsed": 234499,
     "status": "ok",
     "timestamp": 1593022460637,
     "user": {
      "displayName": "Andrew Fisher",
      "photoUrl": "https://lh3.googleusercontent.com/a-/AOh14Gg-eD9hvLlTHfXNn56uwOyTx_KTkqMyd90o5J9B=s64",
      "userId": "00781508667205054958"
     },
     "user_tz": 240
    },
    "id": "Ygavk-8IFqOj"
   },
   "outputs": [],
   "source": [
    "# Initialize the pytorch model for text-to-speech processing\n",
    "# Adapted from sample notebooks provided by these authors\n",
    "# https://github.com/tugstugi/pytorch-dc-tts\n",
    "\n",
    "# Make sure the pre-trained models are downloaded\n",
    "if not exists(\"ljspeech-text2mel.pth\"):\n",
    "    !gdown --id 1rXMp5wFAs51o-6GD5vomucnV2sjwHHDd --output ljspeech-text2mel.pth\n",
    "\n",
    "if not exists(\"ljspeech-ssrn.pth\"):\n",
    "    !gdown --id 1gMwPSGM-Ci4MbtoOzaSRsdu-oSsBKH2i --output ljspeech-ssrn.pth\n",
    "\n",
    "# Initialize the models\n",
    "torch.set_grad_enabled(False)\n",
    "model = Text2Mel(vocab)\n",
    "model.load_state_dict(torch.load(\"ljspeech-text2mel.pth\").state_dict())\n",
    "model = model.eval()\n",
    "\n",
    "ssrn = SSRN()\n",
    "ssrn.load_state_dict(torch.load(\"ljspeech-ssrn.pth\").state_dict())\n",
    "ssrn = ssrn.eval()"
   ]
  },
  {
   "cell_type": "code",
   "execution_count": null,
   "metadata": {
    "colab": {
     "base_uri": "https://localhost:8080/",
     "height": 1000
    },
    "colab_type": "code",
    "executionInfo": {
     "elapsed": 341432,
     "status": "ok",
     "timestamp": 1593022567574,
     "user": {
      "displayName": "Andrew Fisher",
      "photoUrl": "https://lh3.googleusercontent.com/a-/AOh14Gg-eD9hvLlTHfXNn56uwOyTx_KTkqMyd90o5J9B=s64",
      "userId": "00781508667205054958"
     },
     "user_tz": 240
    },
    "id": "k3YVoaBFxTVS",
    "outputId": "a923087f-b8e9-4ec5-ccaa-6ff88fda4601"
   },
   "outputs": [],
   "source": [
    "# Edit the initial slide video\n",
    "clip = mp.VideoFileClip('output/working/Initial_Slide.mp4').crossfadein(1).crossfadeout(1)\n",
    "\n",
    "text = mp.TextClip(\"Total Infected:\\n\" + format(int(results_data['totalInfected']), \",\"), fontsize=28).set_pos((850, 175)).set_start(clip.duration - 7).set_duration(7).crossfadein(1)\n",
    "\n",
    "initial_slide = mp.CompositeVideoClip([clip, text])\n",
    "initial_slide.set_fps(30)\n",
    "initial_slide.write_videofile('output/working/Initial-Slide.mp4')\n",
    "initial_slide = mp.VideoFileClip('output/working/Initial-Slide.mp4')\n",
    "\n",
    "# Add audio to the video\n",
    "text = [\"This scenario started with \" + n2w.convert(int(parameter_data['NI'])) + \" infected individual\" + (\"s\" if int(parameter_data['NI']) > 1 else \"\"),\n",
    "        \"Once the infection ended after \" + n2w.convert(int(results_data['infectionEndDays'])) + \" days, there was a total of \" + n2w.convert(int(results_data['totalInfected'])) + \" individuals that had become infected\"]\n",
    "text_to_wav(model, ssrn, text, \"Initial\")\n",
    "\n",
    "audio_file = mp.AudioFileClip(\"output/working/Initial.mp3\")\n",
    "initial_slide = initial_slide.set_audio(audio_file)"
   ]
  },
  {
   "cell_type": "code",
   "execution_count": null,
   "metadata": {
    "colab": {
     "base_uri": "https://localhost:8080/",
     "height": 1000
    },
    "colab_type": "code",
    "executionInfo": {
     "elapsed": 445794,
     "status": "ok",
     "timestamp": 1593022671937,
     "user": {
      "displayName": "Andrew Fisher",
      "photoUrl": "https://lh3.googleusercontent.com/a-/AOh14Gg-eD9hvLlTHfXNn56uwOyTx_KTkqMyd90o5J9B=s64",
      "userId": "00781508667205054958"
     },
     "user_tz": 240
    },
    "id": "N0QUc6wsxTVa",
    "outputId": "61567b37-7540-47ba-e453-aef9525712e4"
   },
   "outputs": [],
   "source": [
    "# Edit the hospital slide video\n",
    "clip = mp.VideoFileClip('output/working/Hospital_Slide.mp4').crossfadein(1).crossfadeout(1)\n",
    "\n",
    "text = mp.TextClip(\"ICU Peak:\\n\" + format(math.ceil(input_data['ICU'].max() + 1), \",\") + \"\\n\\nWard Peak:\\n\" + format(int(input_data['Ward'].max()), \",\"), fontsize=28).set_pos((850, 175)).set_start(clip.duration - 7).set_duration(7).crossfadein(1)\n",
    "\n",
    "hospital_slide = mp.CompositeVideoClip([clip, text])\n",
    "hospital_slide.set_fps(30)\n",
    "hospital_slide.write_videofile('output/working/Hospital-Slide.mp4')\n",
    "hospital_slide = mp.VideoFileClip('output/working/Hospital-Slide.mp4')\n",
    "\n",
    "# Add audio to the video\n",
    "text = [\"Over the course of the infection, the I see you capacity peaked at \" + n2w.convert(math.ceil(input_data['ICU'].max() + 1)) + \" individuals while the ward peaked at \" + n2w.convert(int(input_data['Ward'].max())) + \" individuals\",\n",
    "        \"The I see you limit in this scenario was set to \" + n2w.convert(int(parameter_data['NC'])) + \" individuals\"]\n",
    "text_to_wav(model, ssrn, text, \"Hospital\")\n",
    "\n",
    "audio_file = mp.AudioFileClip(\"output/working/Hospital.mp3\")\n",
    "hospital_slide = hospital_slide.set_audio(audio_file)"
   ]
  },
  {
   "cell_type": "code",
   "execution_count": null,
   "metadata": {
    "colab": {
     "base_uri": "https://localhost:8080/",
     "height": 1000
    },
    "colab_type": "code",
    "executionInfo": {
     "elapsed": 550034,
     "status": "ok",
     "timestamp": 1593022776179,
     "user": {
      "displayName": "Andrew Fisher",
      "photoUrl": "https://lh3.googleusercontent.com/a-/AOh14Gg-eD9hvLlTHfXNn56uwOyTx_KTkqMyd90o5J9B=s64",
      "userId": "00781508667205054958"
     },
     "user_tz": 240
    },
    "id": "OLdI2Q9exTVh",
    "outputId": "5e9ee50d-57a3-49cf-8848-4ee3b8567eb7"
   },
   "outputs": [],
   "source": [
    "# Edit the deaths slide video\n",
    "clip = mp.VideoFileClip('output/working/Deaths_Slide.mp4').crossfadein(1).crossfadeout(1)\n",
    "\n",
    "text = mp.TextClip(\"Total Recovered:\\n\" + format(int(input_data['Recovered'].max()), \",\") + \"\\n\\nTotal Deaths:\\n\" + format(int(input_data['Death'].max()), \",\"), fontsize=28).set_pos((850, 175)).set_start(clip.duration - 7).set_duration(7).crossfadein(1)\n",
    "\n",
    "deaths_slide = mp.CompositeVideoClip([clip, text])\n",
    "deaths_slide.set_fps(30)\n",
    "deaths_slide.write_videofile('output/working/Deaths-Slide.mp4')\n",
    "deaths_slide = mp.VideoFileClip('output/working/Deaths-Slide.mp4')\n",
    "\n",
    "# Add audio to the video\n",
    "text = [\"Out of the \" + n2w.convert(int(results_data['totalInfected'])) + \" individuals that became infected\",\n",
    "        \"A total of \" + n2w.convert(int(input_data['Recovered'].max())) + \" individuals recovered from the infection while \" + n2w.convert(int(input_data['Death'].max())) + \" deaths were recorded\"]\n",
    "text_to_wav(model, ssrn, text, \"Deaths\")\n",
    "\n",
    "audio_file = mp.AudioFileClip(\"output/working/Deaths.mp3\")\n",
    "deaths_slide = deaths_slide.set_audio(audio_file)"
   ]
  },
  {
   "cell_type": "code",
   "execution_count": null,
   "metadata": {
    "colab": {
     "base_uri": "https://localhost:8080/",
     "height": 256
    },
    "colab_type": "code",
    "executionInfo": {
     "elapsed": 598409,
     "status": "ok",
     "timestamp": 1593022824555,
     "user": {
      "displayName": "Andrew Fisher",
      "photoUrl": "https://lh3.googleusercontent.com/a-/AOh14Gg-eD9hvLlTHfXNn56uwOyTx_KTkqMyd90o5J9B=s64",
      "userId": "00781508667205054958"
     },
     "user_tz": 240
    },
    "id": "NyflXfFexTVq",
    "outputId": "f2ad71c9-8e44-4e27-a95d-2b6b1fced1aa"
   },
   "outputs": [],
   "source": [
    "# Add audio to the introduction slide\n",
    "introduction_slide = mp.VideoFileClip('output/working/Introduction.mp4')\n",
    "\n",
    "text = [\"Visualization of North COVID nine teen\",\n",
    "         \"The results in this viddeo are based on the following parameters\",\n",
    "         \"an initial population of \" + n2w.convert(int(parameter_data['N'])),\n",
    "         \"Initial infected of \" + n2w.convert(int(parameter_data['NI'])),\n",
    "         \"I see you capacity of \" + n2w.convert(int(parameter_data['NC'])),\n",
    "         \"Contact rate of \" + n2w.convert(int(parameter_data['C'])) + \" point \" + n2w.convert(int(10 * (round(parameter_data['C'], 1) - int(parameter_data['C'])))),\n",
    "         \"an infectivity of \" + n2w.convert(int(100 * parameter_data['T'])) + \" point \" + n2w.convert(int(10 * (round(100 * parameter_data['T'], 1) - int(100 * parameter_data['T'])))) + \" percent\",\n",
    "         \"and an illness duration of \" + n2w.convert(int(parameter_data['NU'])) + \" point \" + n2w.convert(int(10 * (round(parameter_data['NU'], 1) - int(parameter_data['NU'])))) + \" days\"]\n",
    "text_to_wav(model, ssrn, text, \"Introduction\")\n",
    "\n",
    "audio_file = mp.AudioFileClip(\"output/working/Introduction.mp3\")\n",
    "introduction_slide = introduction_slide.set_audio(audio_file)\n",
    "introduction_slide = introduction_slide.set_duration(audio_file.duration)\n",
    "introduction_slide = introduction_slide.crossfadein(1).crossfadeout(1)"
   ]
  },
  {
   "cell_type": "code",
   "execution_count": null,
   "metadata": {
    "colab": {
     "base_uri": "https://localhost:8080/",
     "height": 256
    },
    "colab_type": "code",
    "executionInfo": {
     "elapsed": 656713,
     "status": "ok",
     "timestamp": 1593022882861,
     "user": {
      "displayName": "Andrew Fisher",
      "photoUrl": "https://lh3.googleusercontent.com/a-/AOh14Gg-eD9hvLlTHfXNn56uwOyTx_KTkqMyd90o5J9B=s64",
      "userId": "00781508667205054958"
     },
     "user_tz": 240
    },
    "id": "1NpBU0a_xTVw",
    "outputId": "186d7d74-f513-41a4-daca-b09883be8419"
   },
   "outputs": [],
   "source": [
    "# Add audio to the conclusion slide\n",
    "conclusion_slide = mp.VideoFileClip('output/working/Conclusion_Slide.mp4').crossfadein(1).crossfadeout(3)\n",
    "\n",
    "text = [\"After the infection ended in \" + n2w.convert(int(results_data['infectionEndDays'])) + \" days the total infected peaked at \" + n2w.convert(int(results_data['totalInfected'])),\n",
    "         \"the I see you peaked at \" + n2w.convert(math.ceil(input_data['ICU'].max() + 1)),\n",
    "         \"the ward peaked at \" + n2w.convert(int(input_data['Ward'].max())),\n",
    "         \"the recovered peaked at \" + n2w.convert(int(input_data['Recovered'].max())),\n",
    "         \"and the deaths peaked at \" + n2w.convert(int(input_data['Death'].max()))]\n",
    "text_to_wav(model, ssrn, text, \"Conclusion\")\n",
    "\n",
    "audio_file = mp.AudioFileClip(\"output/working/Conclusion.mp3\")\n",
    "conclusion_slide = conclusion_slide.set_audio(audio_file)"
   ]
  },
  {
   "cell_type": "code",
   "execution_count": null,
   "metadata": {
    "colab": {
     "base_uri": "https://localhost:8080/",
     "height": 1000
    },
    "colab_type": "code",
    "executionInfo": {
     "elapsed": 811038,
     "status": "ok",
     "timestamp": 1593023037188,
     "user": {
      "displayName": "Andrew Fisher",
      "photoUrl": "https://lh3.googleusercontent.com/a-/AOh14Gg-eD9hvLlTHfXNn56uwOyTx_KTkqMyd90o5J9B=s64",
      "userId": "00781508667205054958"
     },
     "user_tz": 240
    },
    "id": "GhsPSEsLxTV3",
    "outputId": "fda22f88-187f-4f73-f468-12113db80f5f"
   },
   "outputs": [],
   "source": [
    "# Combine all videos and render the final product\n",
    "clips = [introduction_slide,\n",
    "         initial_slide,\n",
    "         hospital_slide,\n",
    "         deaths_slide,\n",
    "         conclusion_slide]\n",
    "\n",
    "final_clip = mp.concatenate_videoclips(clips, method=\"compose\")\n",
    "final_clip.set_fps(30)\n",
    "final_clip.write_videofile('output/Final_Result.mp4')"
   ]
  },
  {
   "cell_type": "code",
   "execution_count": null,
   "metadata": {
    "colab": {},
    "colab_type": "code",
    "executionInfo": {
     "elapsed": 811038,
     "status": "ok",
     "timestamp": 1593023037190,
     "user": {
      "displayName": "Andrew Fisher",
      "photoUrl": "https://lh3.googleusercontent.com/a-/AOh14Gg-eD9hvLlTHfXNn56uwOyTx_KTkqMyd90o5J9B=s64",
      "userId": "00781508667205054958"
     },
     "user_tz": 240
    },
    "id": "RgDGfznK_beH"
   },
   "outputs": [],
   "source": [
    "# Clear the working folder\n",
    "files = glob.glob('output/working/*')\n",
    "for f in files:\n",
    "    try:\n",
    "        os.remove(f)\n",
    "    except:\n",
    "        continue"
   ]
  }
 ],
 "metadata": {
  "colab": {
   "collapsed_sections": [],
   "name": "Video_Generation.ipynb",
   "provenance": [],
   "toc_visible": true
  },
  "kernelspec": {
   "display_name": "Python 3",
   "language": "python",
   "name": "python3"
  },
  "language_info": {
   "codemirror_mode": {
    "name": "ipython",
    "version": 3
   },
   "file_extension": ".py",
   "mimetype": "text/x-python",
   "name": "python",
   "nbconvert_exporter": "python",
   "pygments_lexer": "ipython3",
   "version": "3.7.6"
  }
 },
 "nbformat": 4,
 "nbformat_minor": 1
}
